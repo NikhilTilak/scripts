{
 "cells": [
  {
   "cell_type": "code",
   "execution_count": 240,
   "metadata": {},
   "outputs": [],
   "source": [
    "import pyvisa\n",
    "import re\n",
    "import numpy as np\n",
    "import matplotlib.pyplot as plt\n",
    "plt.style.use('./nikhils_plot_style.mplstyle')"
   ]
  },
  {
   "cell_type": "code",
   "execution_count": 241,
   "metadata": {},
   "outputs": [
    {
     "name": "stdout",
     "output_type": "stream",
     "text": [
      "('USB0::0x2A8D::0x038B::CN60150271::INSTR',)\n",
      "KEYSIGHT TECHNOLOGIES,EDUX1052A,CN60150271,02.12.2021071625\n",
      "\n"
     ]
    }
   ],
   "source": [
    "rm = pyvisa.ResourceManager()\n",
    "\n",
    "print(rm.list_resources())\n",
    "\n",
    "scope = rm.open_resource('USB0::0x2A8D::0x038B::CN60150271::INSTR')\n",
    "\n",
    "print(scope.query('*IDN?'))"
   ]
  },
  {
   "cell_type": "code",
   "execution_count": 242,
   "metadata": {},
   "outputs": [
    {
     "name": "stdout",
     "output_type": "stream",
     "text": [
      "number of points in the waveform: 100000\n"
     ]
    },
    {
     "data": {
      "image/png": "[encoded data removed]",
      "text/plain": [
       "<Figure size 720x360 with 1 Axes>"
      ]
     },
     "metadata": {
      "needs_background": "light"
     },
     "output_type": "display_data"
    }
   ],
   "source": [
    "\n",
    "################ Measurement setup ################\n",
    "num_acquisitions = 1\n",
    "time_per_div = 1e-2 # s\n",
    "volt_per_div = 5e-2 # V\n",
    "TOTAL_TIME_DIVS = 10\n",
    "TOTAL_VOLT_DIVS = 8\n",
    "scope.write(':CHANnel1:PROBe 1.0') # probe attenuation factor is 1:1\n",
    "scope.write(f':TIMebase:RANGe {time_per_div*TOTAL_TIME_DIVS}') # 1000ms total acquisition time\n",
    "scope.write(f':CHANnel1:RANGe {volt_per_div*TOTAL_VOLT_DIVS}') # 400mV full scale\n",
    "scope.write(':CHANnel1:COUPling AC')\n",
    "\n",
    "################ Trigger setup ################\n",
    "scope.write(':STOP')\n",
    "\n",
    "# scope.write(':TRIGger:FORCe') # force trigger if no trigger is detected\n",
    "\n",
    "################ Data acquisition ###############\n",
    "data_list = []\n",
    "scope.write(':WAVeform:SOURce CHANnel1')\n",
    "scope.write(':WAVeform:FORMat ASCII')\n",
    "scope.write(':WAVeform:POINts:MODE NORmal')\n",
    "scope.write(':WAVeform:POINts:MODE MAXimum')\n",
    "\n",
    "for i in range(num_acquisitions):\n",
    "    scope.write(':SINGLE')\n",
    "_ = scope.query(':WAVeform:POINts?') #IMPORTANT!!! DO NOT REMOVE THIS LINE\n",
    "    data = scope.query(':WAVeform:DATA?')\n",
    "    data_list.append(data)\n",
    "\n",
    "################ Data processing ################\n",
    "for i, data in enumerate(data_list):\n",
    "    data_list[i] = re.sub(r'\\#\\d+', '', data)\n",
    "    data_list[i] = np.asarray([float(x) for x in data_list[i].split(',')])\n",
    "    print(f\"number of points in the waveform: {len(data_list[i])}\")\n",
    "time = np.linspace(0, time_per_div*TOTAL_TIME_DIVS, len(data_list[0]))\n",
    "\n",
    "################ Plotting ################\n",
    "fig, ax = plt.subplots(figsize=(10,5))\n",
    "for i in range(num_acquisitions):\n",
    "    ax.plot(time,data_list[i], label=f'acquisition {i+1}')\n",
    "ax.set_xlabel('Time (s)')\n",
    "ax.set_ylabel('Voltage (V)')\n",
    "ax.legend()\n",
    "plt.show()\n",
    "\n",
    "############### save data ################\n",
    "np.savetxt('./data/data_1KOhm_single.csv', \n",
    "           np.concatenate((time.reshape(-1,1), np.transpose(data_list)), axis=-1), \n",
    "           delimiter=',')"
   ]
  },
  {
   "cell_type": "code",
   "execution_count": null,
   "metadata": {},
   "outputs": [],
   "source": []
  }
 ],
 "metadata": {
  "kernelspec": {
   "display_name": "erdos_env",
   "language": "python",
   "name": "python3"
  },
  "language_info": {
   "codemirror_mode": {
    "name": "ipython",
    "version": 3
   },
   "file_extension": ".py",
   "mimetype": "text/x-python",
   "name": "python",
   "nbconvert_exporter": "python",
   "pygments_lexer": "ipython3",
   "version": "3.7.7"
  }
 },
 "nbformat": 4,
 "nbformat_minor": 2
}
